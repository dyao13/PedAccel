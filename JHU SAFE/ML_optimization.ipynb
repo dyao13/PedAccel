{
 "cells": [
  {
   "cell_type": "code",
   "execution_count": 1,
   "metadata": {},
   "outputs": [],
   "source": [
    "#import relevant packages\n",
    "import pandas as pd\n",
    "import numpy as np\n",
    "import matplotlib.pyplot as plt\n",
    "from pathlib import Path\n",
    "import pyarrow as pa\n",
    "import seaborn as sns\n",
    "from datetime import timedelta, datetime\n",
    "\n",
    "dir = Path(r\"S:\\Fackler_OSS_364376\\data\\IRB-364376-v1-230215\")"
   ]
  },
  {
   "cell_type": "code",
   "execution_count": 2,
   "metadata": {},
   "outputs": [],
   "source": [
    "fp = dir.joinpath('EHR', 'd_flo_measures.csv.gz')\n",
    "dict = pd.read_csv(fp, compression=\"gzip\")\n",
    "\n",
    "names = [\"State Behavioral Scale\",\n",
    "\"-3 Unresponsive\", \n",
    "\"-2 Responsive to noxious stimuli\", \n",
    "\"-1 Responsive to gentle touch or voice\",\n",
    "\"0 Awake and Able to calm\",\n",
    "\"+1 Restless and difficult to calm\",\n",
    "\"+2 Agitated\",\n",
    "\"State Behavioral Scale (SBS)\"]\n",
    "\n",
    "# note: flowsheet record flow_meas_id as meas_id\n",
    "# note: SBS score values are only stored in these fields\n",
    "\n",
    "fmid = [304080016, 304080017, 304080018, 304080019, 304080020, 304080021]\n"
   ]
  },
  {
   "cell_type": "code",
   "execution_count": 11,
   "metadata": {},
   "outputs": [
    {
     "name": "stderr",
     "output_type": "stream",
     "text": [
      "c:\\Program Files\\miniconda3\\lib\\site-packages\\ipykernel_launcher.py:17: SettingWithCopyWarning: \n",
      "A value is trying to be set on a copy of a slice from a DataFrame.\n",
      "Try using .loc[row_indexer,col_indexer] = value instead\n",
      "\n",
      "See the caveats in the documentation: https://pandas.pydata.org/pandas-docs/stable/user_guide/indexing.html#returning-a-view-versus-a-copy\n"
     ]
    }
   ],
   "source": [
    "# connect with feather file\n",
    "fp = dir.joinpath('EHR', 'ptsd_record.csv.gz')\n",
    "\n",
    "ptsd_record = pd.read_csv(fp, compression=\"gzip\")\n",
    "\n",
    "# load flow table of all patient EHR records\n",
    "fp = dir.joinpath('EHR', 'flowsheet.csv.gz')\n",
    "data = pd.read_csv(fp, compression=\"gzip\")\n",
    "data = data.drop(columns = ['meas_comment', 'meas_template_id'])\n",
    "# Note: pandas took 50 seconds to load the table. Consider porting to PySpark RDD\n",
    "\n",
    "sbs = data[data['meas_id'].isin(fmid)]\n",
    "# print(sbs.shape)\n",
    "# 25878 entries\n",
    "\n",
    "# calculate sbs score from offset\n",
    "sbs['SBS'] = sbs['meas_id'] - 304080019\n",
    "sbs = sbs.drop(columns=['meas_value', 'meas_id'])\n",
    "sbs['recorded_time'] = pd.to_datetime(sbs['recorded_time'], format='%Y-%m-%d %H:%M:%S')\n",
    "sbs_indiv = sbs.groupby('pat_enc_csn_sid')\n",
    "\n",
    "# load pre-selected patients from patient_inclexcl.ipynb\n",
    "patients = np.load('./DONOTPUSH/patients.npy', allow_pickle=True)"
   ]
  },
  {
   "attachments": {},
   "cell_type": "markdown",
   "metadata": {},
   "source": [
    "### Segment pstd and SBS data for ML training"
   ]
  },
  {
   "attachments": {},
   "cell_type": "markdown",
   "metadata": {},
   "source": [
    "Select Relevant vitals.\n",
    "For now:\n",
    "- drop data from Medibus (ventilator system)\n",
    "- Keep dts, HR, SPO2, RR, \n",
    "- TODO: add BP"
   ]
  },
  {
   "cell_type": "code",
   "execution_count": 61,
   "metadata": {},
   "outputs": [
    {
     "name": "stdout",
     "output_type": "stream",
     "text": [
      "hl7m ['dts', 'AR1-D', 'AR1-M', 'AR1-R', 'AR1-S', 'CVP2', 'HR', 'NBP-D', 'NBP-M', 'NBP-R', 'NBP-S', 'PVC', 'RR', 'SPO2-%', 'SPO2-R', 'ST-AVF', 'ST-AVL', 'ST-AVR', 'ST-I', 'ST-II', 'ST-III', 'ST-V1', 'TP1-1', 'TP1-2']\n",
      "tsdb ['dts', 'HR', 'HR_Art_2930', 'HR_SpO2_7876', 'Temp', 'awRR_3495', 'N2O_Insp_2885', 'N2O_Exp_2886', 'O2_Insp_2902', 'O2_Exp', 'Des_Insp', 'Des_Exp_594', 'Sevo_Insp', 'Sevo_Exp_596', 'SpO2_7874', 'ECG_I_ST', 'ECG_II_ST', 'ECG_III_ST', 'FIO2_2343', 'PIP_1227', 'PEEP_1418', 'NIBP_S', 'ABP_S_2318', 'ABP_D_2319', 'ABP_M_2320', 'CO2_Insp_perc', 'EtCO2_2905', 'NIBP_D', 'NIBP_M']\n",
      "gevitals ['dts', 'PARM_HR', 'PARM_PVC', 'PARM_ST_SEG1', 'PARM_ST_SEG2', 'PARM_ST_SEG3', 'PARM_ST_V1', 'PARM_ST_V2', 'PARM_ST_V3', 'PARM_ST_V4', 'PARM_ST_V5', 'PARM_ST_V6', 'PARM_ST_AVF', 'PARM_ST_AVL', 'PARM_ST_AVR', 'PARM_SPO2_1', 'PARM_SPO2_HR1', 'PARM_NBP_CUFF', 'PARM_NBP_SYS', 'PARM_NBP_MEAN', 'PARM_NBP_DIA', 'GE_HSDI_SIGNAL_ID_NON_INVASIVE_PRESS_pulseRate_NUM', 'PARM_RESP_RATE', 'GE_HSDI_SIGNAL_ID_MON_GAS_RESPIRED_FRAC_INSP_O2_CONC_NUM', 'GE_HSDI_SIGNAL_ID_MON_GAS_RESPIRED_FRAC_INSP_CO2_CONC_NUM', 'GE_HSDI_SIGNAL_ID_MON_GAS_RESPIRED_FRAC_EXPIRED_O2_CONC_NUM', 'GE_HSDI_SIGNAL_ID_MON_GAS_RESPIRED_FRAC_EXPIRED_CO2_CONC_NUM', 'GE_HSDI_SIGNAL_ID_RESPIRATION_ambientPressure_NUM', 'GE_HSDI_SIGNAL_ID_RESPIRATION_respRate_NUM', 'PARM_ABP1_S', 'PARM_ABP1_M', 'PARM_ABP1_D', 'PARM_ABP1_HR']\n"
     ]
    }
   ],
   "source": [
    "fp_hl7m = dir.joinpath('ptsd-phi', 'vitals-hl7m', \"003\", '1000000003-2016-07-07-0.0166667-1-HL7M.feather')\n",
    "fp_tsdb = dir.joinpath('ptsd-phi', 'vitals-tsdb', \"106\", '1000002106-2019-01-22-1-TSDB.feather')\n",
    "fp_gevital = dir.joinpath('ptsd-phi', 'vitals-sb', \"672\", '1000002672-2020-10-01-1-GEVITAL.feather')\n",
    "fp_medibus = dir.joinpath('ptsd-phi', 'vitals-sb', \"672\", '1000002672-2020-10-01-1-MEDIBUSVITAL.feather')\n",
    "\n",
    "df = pd.read_feather(fp_hl7m, columns=None, use_threads=True, storage_options=None)\n",
    "names_hl7m = df.columns.tolist()\n",
    "print(\"hl7m\", names_hl7m)\n",
    "df = pd.read_feather(fp_tsdb, columns=None, use_threads=True, storage_options=None)\n",
    "names_tsdb = df.columns.tolist()\n",
    "print(\"tsdb\", names_tsdb)\n",
    "df = pd.read_feather(fp_gevital, columns=None, use_threads=True, storage_options=None)\n",
    "names_gevitals = df.columns.tolist()\n",
    "print(\"gevitals\", names_gevitals)\n",
    "# df = pd.read_feather(fp_medibus, columns=None, use_threads=True, storage_options=None)\n",
    "# names_medibus = df.columns.tolist()\n",
    "# print(\"medibus\", names_medibus)"
   ]
  },
  {
   "cell_type": "code",
   "execution_count": 67,
   "metadata": {},
   "outputs": [],
   "source": [
    "hl7m_order = ['dts', 'HR', 'NBP-S', 'NBP-D', 'RR', 'SPO2-%']\n",
    "tsdb_order = ['dts', 'HR', 'ABP_S_2318','ABP_D_2319','awRR_3495', 'SpO2_7874']\n",
    "ge_order = ['dts','PARM_HR', 'PARM_NBP_SYS','PARM_NBP_DIA','PARM_RESP_RATE', 'PARM_SPO2_HR1']\n",
    "metrics = set(hl7m_order + tsdb_order + ge_order)"
   ]
  },
  {
   "cell_type": "code",
   "execution_count": 72,
   "metadata": {},
   "outputs": [],
   "source": [
    "# turn off error message on .loc\n",
    "pd.options.mode.chained_assignment = None  # default='warn'\n",
    "\n",
    "X = []\n",
    "y = []\n",
    "# record patient id for stratification\n",
    "ids = []\n",
    "\n",
    "for p in patients:\n",
    "    files = ptsd_record[ptsd_record['pat_enc_csn_sid'] == p]\n",
    "    files['start_time'] = pd.to_datetime(files['start_time'], format='%Y-%m-%d %H:%M:%S')\n",
    "    files['end_time'] = pd.to_datetime(files['end_time'], format='%Y-%m-%d %H:%M:%S')\n",
    "    files.sort_values('start_time')\n",
    "\n",
    "    devices = files['device']\n",
    "    filename = files['filename'] + '.feather'\n",
    "    startime = files['start_time']\n",
    "\n",
    "    dfs = []\n",
    "    size = 0 \n",
    "    for (d, fn, t0) in zip(devices, filename, startime): \n",
    "        # drop 'MEDIBUSVITAL' since it is a ventilator (we dont want ventilated patients)\n",
    "        if fn.endswith('MEDIBUSVITAL.feather'):\n",
    "            continue\n",
    "        # HL7M', 'TSDB', 'GEVITAL'\n",
    "        if (d.endswith('HL7M') or d.endswith('TSDB')):\n",
    "            fp_device = 'vitals-' + d.lower()\n",
    "        else:\n",
    "            fp_device = 'vitals-sb'\n",
    "        fp_p = str(p)[-3:] # last 3 digit of pat_enc_csn_sid is the subfolder\n",
    "        fp = dir.joinpath('ptsd-phi', fp_device, fp_p, fn)\n",
    "        if (fp == None):\n",
    "            print(fp, \"does not exist\")\n",
    "            continue\n",
    "\n",
    "        df = pd.read_feather(fp, columns=None, use_threads=True, storage_options=None)\n",
    "        df = df.filter(metrics)\n",
    "        # rearrange columns according to device\n",
    "        if d.endswith('HL7M'):\n",
    "            df = df.reindex(columns=hl7m_order)\n",
    "        elif d.endswith('TSDB'):\n",
    "            df = df.reindex(columns=tsdb_order)\n",
    "        elif d.endswith('GEVITAL'):\n",
    "            df = df.reindex(columns=ge_order)\n",
    "        df.loc[:,'dts'] = pd.to_timedelta(df.loc[:,'dts'], unit='s')\n",
    "        df.loc[:,'dts'] = df.loc[:,'dts'] + t0\n",
    "\n",
    "        # standardize column names\n",
    "        df.columns = ['dts', 'HR', 'BP-S', 'BP-D', 'RR', 'SPO2-%']\n",
    "        dfs.append(df)\n",
    "\n",
    "    patient_multi = pd.concat(dfs, axis=0) \n",
    "    patient_multi = patient_multi.sort_values(by=['dts'])\n",
    "\n",
    "    # add SBS\n",
    "    sbs_p = sbs_indiv.get_group(p).sort_values('recorded_time')\n",
    "    sbs_p = sbs_p.drop(columns=['osler_sid', 'pat_enc_csn_sid'])\n",
    "\n",
    "    # slice into X and y array\n",
    "    for i in range(len(sbs_p)):\n",
    "        t1 = sbs_p['recorded_time'].iloc[i]\n",
    "        t0 = t1 - timedelta(seconds=60*60) # 60 minutes prior\n",
    "\n",
    "        dat = patient_multi.loc[(patient_multi['dts'] >= t0)\n",
    "                        & (patient_multi['dts'] <= t1)]\n",
    "        # drop rows with non-constant time intervals\n",
    "        t_diff = dat['dts'].diff()\n",
    "        # force all time interval to be constant\n",
    "        dat = dat[t_diff == pd.Timedelta(60,unit=\"S\")].reset_index(drop=True)\n",
    "\n",
    "        # FIXME: time interval sampling \n",
    "\n",
    "        if (dat.shape[0] > 59 and dat.shape[1] == 6):\n",
    "            X.append(dat.drop(columns=['dts']).to_numpy())\n",
    "            y.append(sbs_p.iloc[i,1])\n",
    "            ids.append(p)\n",
    "\n",
    "X = np.array(X)\n",
    "y = np.array(y)\n",
    "ids = np.array(ids)"
   ]
  },
  {
   "cell_type": "code",
   "execution_count": 75,
   "metadata": {},
   "outputs": [
    {
     "name": "stdout",
     "output_type": "stream",
     "text": [
      "(969, 5, 60)\n",
      "(969,)\n",
      "(969,)\n"
     ]
    }
   ],
   "source": [
    "# reshape\n",
    "X = np.transpose(X, (0, 2, 1))\n",
    "\n",
    "print(X.shape)\n",
    "print(y.shape)\n",
    "print(ids.shape)\n",
    "\n",
    "np.save('./DONOTPUSH/waveforms_60min.npy',X)\n",
    "np.save('./DONOTPUSH/sbs_60min.npy',y)\n",
    "np.save('./DONOTPUSH/ids_60min.npy',ids)"
   ]
  },
  {
   "cell_type": "code",
   "execution_count": 76,
   "metadata": {},
   "outputs": [
    {
     "data": {
      "text/plain": [
       "(array([  1.,   0.,   8.,   0., 177.,   0., 703.,   0.,  52.,  28.]),\n",
       " array([-3. , -2.5, -2. , -1.5, -1. , -0.5,  0. ,  0.5,  1. ,  1.5,  2. ]),\n",
       " <BarContainer object of 10 artists>)"
      ]
     },
     "execution_count": 76,
     "metadata": {},
     "output_type": "execute_result"
    },
    {
     "data": {
      "image/png": "[encoded data removed]",
      "text/plain": [
       "<Figure size 432x288 with 1 Axes>"
      ]
     },
     "metadata": {
      "needs_background": "light"
     },
     "output_type": "display_data"
    }
   ],
   "source": [
    "X = np.load('./DONOTPUSH/waveforms_60min.npy')\n",
    "y = np.load('./DONOTPUSH/sbs_60min.npy')\n",
    "ids = np.load('./DONOTPUSH/ids_60min.npy')\n",
    "\n",
    "# shift SBS label: multiclass classifier needs labels to start from 0\n",
    "plt.hist(y)"
   ]
  },
  {
   "attachments": {},
   "cell_type": "markdown",
   "metadata": {},
   "source": [
    "#### Visualize patient data\n",
    "\n",
    "RR seems to be mostly missing (padded to -1)\n",
    "SpO2 mostly constant near 100\n",
    "HR elevated in oversedated?"
   ]
  },
  {
   "cell_type": "code",
   "execution_count": 81,
   "metadata": {},
   "outputs": [],
   "source": [
    "(undersed,) = np.where(y == 2)\n",
    "(oversed,) = np.where(y == -2)"
   ]
  },
  {
   "cell_type": "code",
   "execution_count": 83,
   "metadata": {},
   "outputs": [
    {
     "data": {
      "image/png": "[encoded data removed]",
      "text/plain": [
       "<Figure size 864x360 with 2 Axes>"
      ]
     },
     "metadata": {
      "needs_background": "light"
     },
     "output_type": "display_data"
    }
   ],
   "source": [
    "# visualize one\n",
    "t = np.linspace(0, 60, 60)\n",
    "\n",
    "\n",
    "fig, axs = plt.subplots(1, 2, sharey=True, figsize=(12, 5))\n",
    "\n",
    "# 'HR', 'BP-S', 'BP-D', 'RR', 'SPO2-%'\n",
    "p = undersed[1]\n",
    "dat = X[p, :, :]\n",
    "ax1 = axs[0]\n",
    "ax1.plot(t, dat[0], label='HR')\n",
    "ax1.plot(t, dat[1], label='BP-S')\n",
    "ax1.plot(t, dat[2], label='BP-D')\n",
    "ax1.plot(t, dat[3], label='RR')\n",
    "ax1.plot(t, dat[4], label='SpO2-%')\n",
    "ax1.set_title(f'SBS {5-3} (undersedated)')\n",
    "ax1.legend()\n",
    "\n",
    "p = oversed[2]\n",
    "dat = X[p, :, :]\n",
    "ax2 = axs[1]\n",
    "ax2.plot(t, dat[0], label='HR')\n",
    "ax2.plot(t, dat[1], label='BP-S')\n",
    "ax2.plot(t, dat[2], label='BP-D')\n",
    "ax2.plot(t, dat[3], label='RR')\n",
    "ax2.plot(t, dat[4], label='SpO2-%')\n",
    "ax2.set_title(f'SBS {1-3} (oversedated)')\n",
    "ax2.legend()\n",
    "\n",
    "plt.tight_layout()\n",
    "plt.show()"
   ]
  },
  {
   "attachments": {},
   "cell_type": "markdown",
   "metadata": {},
   "source": [
    "#### ML pipeline"
   ]
  },
  {
   "attachments": {},
   "cell_type": "markdown",
   "metadata": {},
   "source": [
    "Idea list: https://github.com/danielgy/Paper-list-on-Imbalanced-Time-series-Classification-with-Deep-Learning"
   ]
  },
  {
   "cell_type": "code",
   "execution_count": 17,
   "metadata": {},
   "outputs": [],
   "source": [
    "import numpy as np\n",
    "from sklearn.linear_model import RidgeClassifierCV\n",
    "from sklearn.model_selection import train_test_split, GroupShuffleSplit\n",
    "from sklearn.metrics import accuracy_score, confusion_matrix, ConfusionMatrixDisplay\n",
    "from sklearn.utils import class_weight\n",
    "\n",
    "from sktime.datasets import load_basic_motions  # multivariate dataset\n",
    "from sktime.transformations.panel.rocket import Rocket\n",
    "import xgboost as xgb\n",
    "from imblearn.over_sampling import RandomOverSampler, SMOTE"
   ]
  },
  {
   "cell_type": "code",
   "execution_count": 176,
   "metadata": {},
   "outputs": [
    {
     "name": "stdout",
     "output_type": "stream",
     "text": [
      "(4291, 3, 60)\n",
      "(1139, 3, 60)\n"
     ]
    },
    {
     "data": {
      "image/png": "[encoded data removed]",
      "text/plain": [
       "<Figure size 432x288 with 1 Axes>"
      ]
     },
     "metadata": {
      "needs_background": "light"
     },
     "output_type": "display_data"
    },
    {
     "data": {
      "text/plain": [
       "(array([ 24.,   0.,  67.,   0., 210.,   0., 660.,   0., 125.,  53.]),\n",
       " array([0. , 0.5, 1. , 1.5, 2. , 2.5, 3. , 3.5, 4. , 4.5, 5. ]),\n",
       " <BarContainer object of 10 artists>)"
      ]
     },
     "execution_count": 176,
     "metadata": {},
     "output_type": "execute_result"
    },
    {
     "data": {
      "image/png": "[encoded data removed]",
      "text/plain": [
       "<Figure size 432x288 with 1 Axes>"
      ]
     },
     "metadata": {
      "needs_background": "light"
     },
     "output_type": "display_data"
    }
   ],
   "source": [
    "# replace missing data with unphysiological value\n",
    "X = np.nan_to_num(X, nan=-1)\n",
    "\n",
    "# shift SBS to range from 0 to 6\n",
    "y += 3\n",
    "\n",
    "\n",
    "# preserve class ratio in train and test set\n",
    "# X_train,X_test, y_train, y_test = train_test_split(X, y, test_size=0.2, random_state=42, stratify=y)\n",
    "\n",
    "# split by patient instead to reduce bias. \n",
    "# n_splits for cross validation\n",
    "gss = GroupShuffleSplit(n_splits=1, train_size=0.8, random_state=42)\n",
    "split = gss.split(X, y, ids)\n",
    "train_index, test_index = next(split)\n",
    "\n",
    "X_train = X[train_index,:,:]\n",
    "y_train = y[train_index]\n",
    "X_test = X[test_index,:,:]\n",
    "y_test = y[test_index]\n",
    "\n",
    "print(X_train.shape)\n",
    "print(X_test.shape)\n",
    "\n",
    "# check class distribution of training and test groups\n",
    "plt.hist(y_train)\n",
    "plt.show()\n",
    "plt.hist(y_test)\n",
    "# visually, they look similar"
   ]
  },
  {
   "attachments": {},
   "cell_type": "markdown",
   "metadata": {},
   "source": [
    "Normalize data onto 0-1 range for each physiological parameter.\n",
    "- Another approach is standardization to 0 mean and 1 std, but here we don't expect physiology to fall onto a normal curve\n",
    "- This is vulnerable to the test distribution being different from the train distribution in terms of minmax. A obvious flaw is that age is strongly correlated to range of heart rate"
   ]
  },
  {
   "cell_type": "code",
   "execution_count": 177,
   "metadata": {},
   "outputs": [],
   "source": [
    "from numpy import newaxis\n",
    "minX = np.min(X_train, axis=(0,2)).reshape(3, 1)[newaxis, :, :]\n",
    "maxX = np.max(X_train, axis=(0,2)).reshape(3, 1)[newaxis, :, :]\n",
    "X_train = (X_train - minX) / (maxX - minX)\n",
    "\n",
    "# note the test dataset is standardized to the min/max of the train set\n",
    "X_test = (X_test - minX) / (maxX - minX)"
   ]
  },
  {
   "attachments": {},
   "cell_type": "markdown",
   "metadata": {},
   "source": [
    "Addressing class imbalance:\n",
    "Common strategies for class imbalance are random upsampling and downsampling, as well as synthetic upsampling.\n",
    "- Random downsampling: remove examples from the most common class. This is not preferred here since we do not have too many data points\n",
    "- Random upsampling: repeating rare classes\n",
    "- Synthetic upsampling generates synthetic data using available data distribution. We use [SMOTE](https://arxiv.org/pdf/1106.1813.pdf), a highly-cited algorithm\n",
    "Importantly, upsampling is only done on the training data\n",
    "\n",
    "However, the results did not fix classification bias. There is also theoretical work suggesting that for strong classifiers, tuning the threshold is better than SMOTE (https://arxiv.org/abs/2201.08528)"
   ]
  },
  {
   "cell_type": "code",
   "execution_count": 129,
   "metadata": {},
   "outputs": [
    {
     "name": "stdout",
     "output_type": "stream",
     "text": [
      "(15288, 3, 30)\n"
     ]
    },
    {
     "data": {
      "text/plain": [
       "(array([2548.,    0., 2548.,    0., 2548.,    0., 2548.,    0., 2548.,\n",
       "        2548.]),\n",
       " array([0. , 0.5, 1. , 1.5, 2. , 2.5, 3. , 3.5, 4. , 4.5, 5. ]),\n",
       " <BarContainer object of 10 artists>)"
      ]
     },
     "execution_count": 129,
     "metadata": {},
     "output_type": "execute_result"
    },
    {
     "data": {
      "image/png": "[encoded data removed]",
      "text/plain": [
       "<Figure size 432x288 with 1 Axes>"
      ]
     },
     "metadata": {
      "needs_background": "light"
     },
     "output_type": "display_data"
    }
   ],
   "source": [
    "# randomly upsample rare classes\n",
    "# sampler = RandomOverSampler(random_state=42)\n",
    "\n",
    "# synthetic upsampling using SMOTE\n",
    "# sampler = SMOTE()\n",
    "\n",
    "# samples = X_train.shape[0]\n",
    "# dims = X_train.shape[1]\n",
    "# times = X_train.shape[2]\n",
    "\n",
    "# X_lin = X_train.reshape(samples,-1)\n",
    "# X_oversample, y_train = sampler.fit_resample(X_lin, y_train)\n",
    "# X_train = X_oversample.reshape((X_oversample.shape[0], dims, times))\n",
    "\n",
    "# print(X_train.shape)\n",
    "# plt.hist(y_train)"
   ]
  },
  {
   "cell_type": "code",
   "execution_count": 178,
   "metadata": {},
   "outputs": [],
   "source": [
    "rocket = Rocket()\n",
    "rocket.fit(X_train)\n",
    "# transform patient waveform into features using ROCKET\n",
    "X_train_transform = rocket.transform(X_train)\n",
    "X_test_transform = rocket.transform(X_test)"
   ]
  },
  {
   "attachments": {},
   "cell_type": "markdown",
   "metadata": {},
   "source": [
    "XGBoost:\n",
    "- [Workflow tutorial](https://xgboost.readthedocs.io/en/stable/python/python_intro.html)\n",
    "- [Hyperparameter list](https://xgboost.readthedocs.io/en/stable/parameter.html)\n",
    "\n",
    "- [Hyperparameter tuning tutorial (Section 2)](https://towardsdatascience.com/xgboost-fine-tune-and-optimize-your-model-23d996fab663)\n",
    "\n",
    "An alternative to upsampling is to weigh samples by class rarity"
   ]
  },
  {
   "cell_type": "code",
   "execution_count": 181,
   "metadata": {},
   "outputs": [
    {
     "name": "stdout",
     "output_type": "stream",
     "text": [
      "[0]\tvalidation_0-auc:0.83505\tvalidation_1-auc:0.57232\n",
      "[1]\tvalidation_0-auc:0.87962\tvalidation_1-auc:0.59065\n",
      "[2]\tvalidation_0-auc:0.89504\tvalidation_1-auc:0.60433\n",
      "[3]\tvalidation_0-auc:0.91117\tvalidation_1-auc:0.61132\n",
      "[4]\tvalidation_0-auc:0.91998\tvalidation_1-auc:0.61832\n",
      "[5]\tvalidation_0-auc:0.92222\tvalidation_1-auc:0.61946\n",
      "[6]\tvalidation_0-auc:0.92585\tvalidation_1-auc:0.62570\n",
      "[7]\tvalidation_0-auc:0.92840\tvalidation_1-auc:0.62551\n",
      "[8]\tvalidation_0-auc:0.93166\tvalidation_1-auc:0.62545\n",
      "[9]\tvalidation_0-auc:0.93310\tvalidation_1-auc:0.62950\n",
      "[10]\tvalidation_0-auc:0.93738\tvalidation_1-auc:0.63211\n",
      "[11]\tvalidation_0-auc:0.93849\tvalidation_1-auc:0.63298\n",
      "[12]\tvalidation_0-auc:0.94082\tvalidation_1-auc:0.63169\n",
      "[13]\tvalidation_0-auc:0.94213\tvalidation_1-auc:0.63193\n",
      "[14]\tvalidation_0-auc:0.94531\tvalidation_1-auc:0.63290\n"
     ]
    },
    {
     "data": {
      "text/plain": [
       "XGBClassifier(base_score=0.5, booster='gbtree', callbacks=None,\n",
       "              colsample_bylevel=1, colsample_bynode=1, colsample_bytree=1,\n",
       "              early_stopping_rounds=None, enable_categorical=False,\n",
       "              eval_metric='auc', gamma=10, gpu_id=-1, grow_policy='depthwise',\n",
       "              importance_type=None, interaction_constraints='',\n",
       "              learning_rate=0.2, max_bin=256, max_cat_to_onehot=4,\n",
       "              max_delta_step=0, max_depth=10, max_leaves=0, min_child_weight=1,\n",
       "              missing=nan, monotone_constraints='()', n_estimators=15, n_jobs=0,\n",
       "              num_class=6, num_parallel_tree=1, objective='multi:softmax',\n",
       "              predictor='auto', random_state=0, ...)"
      ]
     },
     "execution_count": 181,
     "metadata": {},
     "output_type": "execute_result"
    }
   ],
   "source": [
    "# use xgboost classifier\n",
    "dtrain = xgb.DMatrix(X_train_transform, label=y_train)\n",
    "dtest = xgb.DMatrix(X_test_transform, label=y_test)\n",
    "evallist = [(dtrain, 'train'), (dtest, 'eval')]\n",
    "evalset = [(X_train_transform, y_train), (X_test_transform, y_test)]\n",
    "\n",
    "param = {'n_estimators': 15,\n",
    "         'max_depth': 10, \n",
    "         'learning_rate': 0.2,          # try 0.01, 0.1, and 1 first\n",
    "         'colsample_bytree': 1,\n",
    "         'subsample': 0.9,\n",
    "         'gamma': 10,\n",
    "         'objective': 'multi:softmax', \n",
    "         'num_class': 6,\n",
    "         'eval_metric': 'auc'}\n",
    "\n",
    "# https://towardsdatascience.com/how-to-handle-multiclass-imbalanced-data-say-no-to-smote-e9a7f393c310\n",
    "class_weight = class_weight.compute_class_weight(class_weight ='balanced', classes=np.unique(y_train), y=y_train)\n",
    "\n",
    "# double * to unpack param\n",
    "model = xgb.XGBClassifier(**param)\n",
    "model.fit(X_train_transform, y_train, eval_set=evalset)\n",
    "# bst = xgb.train(param, dtrain, num_round, evallist)\n",
    "\n",
    "# observe that as train AUC increase, eval AUC decrease\n",
    "# this indicates model overfitting (or the data is fundamentally different)\n",
    "# more model tuning is required"
   ]
  },
  {
   "cell_type": "code",
   "execution_count": 184,
   "metadata": {},
   "outputs": [
    {
     "name": "stdout",
     "output_type": "stream",
     "text": [
      "Accuracy: 0.579\n"
     ]
    },
    {
     "data": {
      "image/png": "[encoded data removed]",
      "text/plain": [
       "<Figure size 432x288 with 1 Axes>"
      ]
     },
     "metadata": {
      "needs_background": "light"
     },
     "output_type": "display_data"
    }
   ],
   "source": [
    "# evaluate performance\n",
    "yhat = model.predict(X_test_transform)\n",
    "score = accuracy_score(y_test, yhat)\n",
    "print('Accuracy: %.3f' % score)\n",
    "# retrieve performance metrics\n",
    "results = model.evals_result()\n",
    "# we can save this into a list, or plot it\n",
    "\n",
    "# plot learning curves\n",
    "plt.plot(results['validation_0']['auc'], label='train')\n",
    "plt.plot(results['validation_1']['auc'], label='test')\n",
    "plt.xlabel('epochs')\n",
    "plt.ylabel('AUC')\n",
    "# plot from 0 to 1\n",
    "plt.ylim(0.5,1)\n",
    "# show the legend\n",
    "plt.legend()\n",
    "# show the plot\n",
    "plt.show()"
   ]
  },
  {
   "cell_type": "code",
   "execution_count": 185,
   "metadata": {},
   "outputs": [
    {
     "data": {
      "text/plain": [
       "<sklearn.metrics._plot.confusion_matrix.ConfusionMatrixDisplay at 0x1fe94798dc8>"
      ]
     },
     "execution_count": 185,
     "metadata": {},
     "output_type": "execute_result"
    },
    {
     "data": {
      "image/png": "[encoded data removed]",
      "text/plain": [
       "<Figure size 432x288 with 2 Axes>"
      ]
     },
     "metadata": {
      "needs_background": "light"
     },
     "output_type": "display_data"
    }
   ],
   "source": [
    "y_class = np.unique(y)\n",
    "cm = confusion_matrix(y_test, yhat, labels=y_class)\n",
    "disp = ConfusionMatrixDisplay(confusion_matrix=cm, display_labels=y_class)\n",
    "disp.plot()"
   ]
  },
  {
   "cell_type": "code",
   "execution_count": null,
   "metadata": {},
   "outputs": [],
   "source": []
  }
 ],
 "metadata": {
  "kernelspec": {
   "display_name": "base",
   "language": "python",
   "name": "python3"
  },
  "language_info": {
   "codemirror_mode": {
    "name": "ipython",
    "version": 3
   },
   "file_extension": ".py",
   "mimetype": "text/x-python",
   "name": "python",
   "nbconvert_exporter": "python",
   "pygments_lexer": "ipython3",
   "version": "3.7.13 (default, Mar 28 2022, 08:03:21) [MSC v.1916 64 bit (AMD64)]"
  },
  "orig_nbformat": 4,
  "vscode": {
   "interpreter": {
    "hash": "13a0a7db74dc931e95168a9b504eadd3f616dade2353cce14264b5d4e454dcfa"
   }
  }
 },
 "nbformat": 4,
 "nbformat_minor": 2
}
