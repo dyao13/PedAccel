{
 "cells": [
  {
   "cell_type": "code",
   "execution_count": 1,
   "metadata": {},
   "outputs": [],
   "source": [
    "from moviepy.editor import VideoFileClip, concatenate_videoclips\n",
    "import os\n",
    "os.environ[\"IMAGEIO_FFMPEG_EXE\"] = r\"MyFFMPEG_PATH\"\n",
    "import glob\n"
   ]
  },
  {
   "cell_type": "code",
   "execution_count": 9,
   "metadata": {},
   "outputs": [],
   "source": [
    "directory_path = '/Users/SaraBarbaraPejic/Desktop/DT6/VideoRecording/'\n",
    "same_len = len(directory_path)\n",
    "pattern = 'Movie_*.mp4'\n"
   ]
  },
  {
   "cell_type": "code",
   "execution_count": 12,
   "metadata": {},
   "outputs": [
    {
     "name": "stdout",
     "output_type": "stream",
     "text": [
      "Movie_1.mp4\n",
      "Movie_2.mp4\n",
      "['Movie_1.mp4', 'Movie_2.mp4']\n"
     ]
    }
   ],
   "source": [
    "matching_files = glob.glob(directory_path + pattern)\n",
    "matching_mp4 = []\n",
    "for file_name in matching_files:\n",
    "    matching_mp4.append(file_name[same_len:])\n",
    "\n",
    "#for file in matching_mp4:\n",
    "#    print(file)\n",
    "\n",
    "#print(matching_mp4)\n"
   ]
  },
  {
   "cell_type": "code",
   "execution_count": 14,
   "metadata": {},
   "outputs": [
    {
     "name": "stdout",
     "output_type": "stream",
     "text": [
      "Moviepy - Building video output1.mp4.\n",
      "MoviePy - Writing audio in output1TEMP_MPY_wvf_snd.mp3\n"
     ]
    },
    {
     "name": "stderr",
     "output_type": "stream",
     "text": [
      "                                                        \r"
     ]
    },
    {
     "name": "stdout",
     "output_type": "stream",
     "text": [
      "MoviePy - Done.\n",
      "Moviepy - Writing video output1.mp4\n",
      "\n"
     ]
    },
    {
     "name": "stderr",
     "output_type": "stream",
     "text": [
      "                                                              \r"
     ]
    },
    {
     "name": "stdout",
     "output_type": "stream",
     "text": [
      "Moviepy - Done !\n",
      "Moviepy - video ready output1.mp4\n"
     ]
    }
   ],
   "source": [
    "matching_mp4_2 = []\n",
    "for file in matching_mp4:\n",
    "    matching_mp4_2.append(VideoFileClip(file))\n",
    "final_clip = concatenate_videoclips(matching_mp4_2)\n",
    "final_clip.write_videofile(\"output1.mp4\")"
   ]
  }
 ],
 "metadata": {
  "kernelspec": {
   "display_name": "base",
   "language": "python",
   "name": "python3"
  },
  "language_info": {
   "codemirror_mode": {
    "name": "ipython",
    "version": 3
   },
   "file_extension": ".py",
   "mimetype": "text/x-python",
   "name": "python",
   "nbconvert_exporter": "python",
   "pygments_lexer": "ipython3",
   "version": "3.11.4"
  },
  "orig_nbformat": 4
 },
 "nbformat": 4,
 "nbformat_minor": 2
}
