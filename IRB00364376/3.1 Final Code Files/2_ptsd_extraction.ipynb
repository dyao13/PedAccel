{
 "cells": [
  {
   "attachments": {},
   "cell_type": "markdown",
   "metadata": {},
   "source": [
    "# Physiological Time Series Data (PTSD) Extraction Notebook"
   ]
  },
  {
   "cell_type": "code",
   "execution_count": 2,
   "metadata": {},
   "outputs": [],
   "source": [
    "#import relevant packages\n",
    "import pandas as pd\n",
    "import numpy as np\n",
    "import matplotlib.pyplot as plt\n",
    "from pathlib import Path\n",
    "import pyarrow as pa\n",
    "import seaborn as sns\n",
    "from datetime import timedelta, datetime\n",
    "\n",
    "dir = Path(r\"S:\\Fackler_OSS_364376\\data\\IRB-364376-v1-230215\")"
   ]
  },
  {
   "attachments": {},
   "cell_type": "markdown",
   "metadata": {},
   "source": [
    "Get SBS entries for patients who passed inclusion-exclusion criteria"
   ]
  },
  {
   "cell_type": "code",
   "execution_count": 3,
   "metadata": {},
   "outputs": [],
   "source": [
    "fp = dir.joinpath('EHR', 'd_flo_measures.csv.gz')\n",
    "dict = pd.read_csv(fp, compression=\"gzip\")\n",
    "\n",
    "names = [\"State Behavioral Scale\",\n",
    "\"-3 Unresponsive\", \n",
    "\"-2 Responsive to noxious stimuli\", \n",
    "\"-1 Responsive to gentle touch or voice\",\n",
    "\"0 Awake and Able to calm\",\n",
    "\"+1 Restless and difficult to calm\",\n",
    "\"+2 Agitated\",\n",
    "\"State Behavioral Scale (SBS)\"]\n",
    "\n",
    "# note: flowsheet record flow_meas_id as meas_id\n",
    "# note: SBS score values are only stored in these fields\n",
    "\n",
    "fmid = [304080016, 304080017, 304080018, 304080019, 304080020, 304080021]"
   ]
  },
  {
   "cell_type": "code",
   "execution_count": 6,
   "metadata": {},
   "outputs": [
    {
     "name": "stderr",
     "output_type": "stream",
     "text": [
      "c:\\Program Files\\miniconda3\\lib\\site-packages\\ipykernel_launcher.py:17: SettingWithCopyWarning: \n",
      "A value is trying to be set on a copy of a slice from a DataFrame.\n",
      "Try using .loc[row_indexer,col_indexer] = value instead\n",
      "\n",
      "See the caveats in the documentation: https://pandas.pydata.org/pandas-docs/stable/user_guide/indexing.html#returning-a-view-versus-a-copy\n"
     ]
    }
   ],
   "source": [
    "# connect with feather file\n",
    "fp = dir.joinpath('EHR', 'ptsd_record.csv.gz')\n",
    "\n",
    "ptsd_record = pd.read_csv(fp, compression=\"gzip\")\n",
    "\n",
    "# load flow table of all patient EHR records\n",
    "fp = dir.joinpath('EHR', 'flowsheet.csv.gz')\n",
    "data = pd.read_csv(fp, compression=\"gzip\")\n",
    "data = data.drop(columns = ['meas_comment', 'meas_template_id'])\n",
    "# Note: pandas took 50 seconds to load the table. Consider porting to PySpark RDD\n",
    "\n",
    "sbs = data[data['meas_id'].isin(fmid)]\n",
    "# print(sbs.shape)\n",
    "# 25878 entries\n",
    "\n",
    "# calculate sbs score from offset\n",
    "sbs['SBS'] = sbs['meas_id'] - 304080019\n",
    "sbs = sbs.drop(columns=['meas_value', 'meas_id'])\n",
    "sbs['recorded_time'] = pd.to_datetime(sbs['recorded_time'], format='%Y-%m-%d %H:%M:%S')\n",
    "sbs_indiv = sbs.groupby('pat_enc_csn_sid')\n",
    "\n",
    "# load pre-selected patients from patient_inclexcl.ipynb\n",
    "patients = np.load('./DONOTPUSH/patients_wodrugs.npy', allow_pickle=True)"
   ]
  },
  {
   "attachments": {},
   "cell_type": "markdown",
   "metadata": {},
   "source": [
    "### Data Frame Construction: Segment PTSD and SBS data for ML training"
   ]
  },
  {
   "attachments": {},
   "cell_type": "markdown",
   "metadata": {},
   "source": [
    "- Look through all types of data files from different vitals equipment included in IRB dataset.\n",
    "- Decided to not look at Medibus device because it is a ventilator system, and we want to exclude patients with mechanical ventilation support.\n",
    "- Select relevant features to be included in data frame.\n",
    "    - dts (time), HR (heart rate), SPO2, RR (respiratory rate), BP (blood pressure)\n",
    "- Data frame constructed per patient with 60 min of data prior to SBS reading"
   ]
  },
  {
   "cell_type": "code",
   "execution_count": 7,
   "metadata": {},
   "outputs": [
    {
     "name": "stdout",
     "output_type": "stream",
     "text": [
      "hl7m ['dts', 'AR1-D', 'AR1-M', 'AR1-R', 'AR1-S', 'CVP2', 'HR', 'NBP-D', 'NBP-M', 'NBP-R', 'NBP-S', 'PVC', 'RR', 'SPO2-%', 'SPO2-R', 'ST-AVF', 'ST-AVL', 'ST-AVR', 'ST-I', 'ST-II', 'ST-III', 'ST-V1', 'TP1-1', 'TP1-2']\n",
      "tsdb ['dts', 'HR', 'HR_Art_2930', 'HR_SpO2_7876', 'Temp', 'awRR_3495', 'N2O_Insp_2885', 'N2O_Exp_2886', 'O2_Insp_2902', 'O2_Exp', 'Des_Insp', 'Des_Exp_594', 'Sevo_Insp', 'Sevo_Exp_596', 'SpO2_7874', 'ECG_I_ST', 'ECG_II_ST', 'ECG_III_ST', 'FIO2_2343', 'PIP_1227', 'PEEP_1418', 'NIBP_S', 'ABP_S_2318', 'ABP_D_2319', 'ABP_M_2320', 'CO2_Insp_perc', 'EtCO2_2905', 'NIBP_D', 'NIBP_M']\n",
      "gevitals ['dts', 'PARM_HR', 'PARM_PVC', 'PARM_ST_SEG1', 'PARM_ST_SEG2', 'PARM_ST_SEG3', 'PARM_ST_V1', 'PARM_ST_V2', 'PARM_ST_V3', 'PARM_ST_V4', 'PARM_ST_V5', 'PARM_ST_V6', 'PARM_ST_AVF', 'PARM_ST_AVL', 'PARM_ST_AVR', 'PARM_SPO2_1', 'PARM_SPO2_HR1', 'PARM_NBP_CUFF', 'PARM_NBP_SYS', 'PARM_NBP_MEAN', 'PARM_NBP_DIA', 'GE_HSDI_SIGNAL_ID_NON_INVASIVE_PRESS_pulseRate_NUM', 'PARM_RESP_RATE', 'GE_HSDI_SIGNAL_ID_MON_GAS_RESPIRED_FRAC_INSP_O2_CONC_NUM', 'GE_HSDI_SIGNAL_ID_MON_GAS_RESPIRED_FRAC_INSP_CO2_CONC_NUM', 'GE_HSDI_SIGNAL_ID_MON_GAS_RESPIRED_FRAC_EXPIRED_O2_CONC_NUM', 'GE_HSDI_SIGNAL_ID_MON_GAS_RESPIRED_FRAC_EXPIRED_CO2_CONC_NUM', 'GE_HSDI_SIGNAL_ID_RESPIRATION_ambientPressure_NUM', 'GE_HSDI_SIGNAL_ID_RESPIRATION_respRate_NUM', 'PARM_ABP1_S', 'PARM_ABP1_M', 'PARM_ABP1_D', 'PARM_ABP1_HR']\n"
     ]
    }
   ],
   "source": [
    "fp_hl7m = dir.joinpath('ptsd-phi', 'vitals-hl7m', \"003\", '1000000003-2016-07-07-0.0166667-1-HL7M.feather')\n",
    "fp_tsdb = dir.joinpath('ptsd-phi', 'vitals-tsdb', \"106\", '1000002106-2019-01-22-1-TSDB.feather')\n",
    "fp_gevital = dir.joinpath('ptsd-phi', 'vitals-sb', \"672\", '1000002672-2020-10-01-1-GEVITAL.feather')\n",
    "fp_medibus = dir.joinpath('ptsd-phi', 'vitals-sb', \"672\", '1000002672-2020-10-01-1-MEDIBUSVITAL.feather')\n",
    "\n",
    "df = pd.read_feather(fp_hl7m, columns=None, use_threads=True, storage_options=None)\n",
    "names_hl7m = df.columns.tolist()\n",
    "print(\"hl7m\", names_hl7m)\n",
    "df = pd.read_feather(fp_tsdb, columns=None, use_threads=True, storage_options=None)\n",
    "names_tsdb = df.columns.tolist()\n",
    "print(\"tsdb\", names_tsdb)\n",
    "df = pd.read_feather(fp_gevital, columns=None, use_threads=True, storage_options=None)\n",
    "names_gevitals = df.columns.tolist()\n",
    "print(\"gevitals\", names_gevitals)\n",
    "# df = pd.read_feather(fp_medibus, columns=None, use_threads=True, storage_options=None)\n",
    "# names_medibus = df.columns.tolist()\n",
    "# print(\"medibus\", names_medibus)"
   ]
  },
  {
   "cell_type": "code",
   "execution_count": 8,
   "metadata": {},
   "outputs": [],
   "source": [
    "hl7m_order = ['dts', 'HR', 'NBP-S', 'NBP-D', 'RR', 'SPO2-%']\n",
    "tsdb_order = ['dts', 'HR', 'ABP_S_2318','ABP_D_2319','awRR_3495', 'SpO2_7874']\n",
    "ge_order = ['dts','PARM_HR', 'PARM_NBP_SYS','PARM_NBP_DIA','PARM_RESP_RATE', 'PARM_SPO2_HR1']\n",
    "metrics = set(hl7m_order + tsdb_order + ge_order)"
   ]
  },
  {
   "cell_type": "code",
   "execution_count": 9,
   "metadata": {},
   "outputs": [],
   "source": [
    "# turn off error message on .loc\n",
    "pd.options.mode.chained_assignment = None  # default='warn'\n",
    "\n",
    "X = []\n",
    "y = []\n",
    "# record patient id for stratification\n",
    "ids = []\n",
    "\n",
    "for p in patients:\n",
    "    files = ptsd_record[ptsd_record['pat_enc_csn_sid'] == p]\n",
    "    files['start_time'] = pd.to_datetime(files['start_time'], format='%Y-%m-%d %H:%M:%S')\n",
    "    files['end_time'] = pd.to_datetime(files['end_time'], format='%Y-%m-%d %H:%M:%S')\n",
    "    files.sort_values('start_time')\n",
    "\n",
    "    devices = files['device']\n",
    "    filename = files['filename'] + '.feather'\n",
    "    startime = files['start_time']\n",
    "\n",
    "    dfs = []\n",
    "    size = 0 \n",
    "    for (d, fn, t0) in zip(devices, filename, startime): \n",
    "        # drop 'MEDIBUSVITAL' since it is a ventilator (we dont want ventilated patients)\n",
    "        if fn.endswith('MEDIBUSVITAL.feather'):\n",
    "            continue\n",
    "        # HL7M', 'TSDB', 'GEVITAL'\n",
    "        if (d.endswith('HL7M') or d.endswith('TSDB')):\n",
    "            fp_device = 'vitals-' + d.lower()\n",
    "        else:\n",
    "            fp_device = 'vitals-sb'\n",
    "        fp_p = str(p)[-3:] # last 3 digit of pat_enc_csn_sid is the subfolder\n",
    "        fp = dir.joinpath('ptsd-phi', fp_device, fp_p, fn)\n",
    "        if (fp == None):\n",
    "            print(fp, \"does not exist\")\n",
    "            continue\n",
    "\n",
    "        df = pd.read_feather(fp, columns=None, use_threads=True, storage_options=None)\n",
    "        df = df.filter(metrics)\n",
    "        # rearrange columns according to device\n",
    "        if d.endswith('HL7M'):\n",
    "            df = df.reindex(columns=hl7m_order)\n",
    "        elif d.endswith('TSDB'):\n",
    "            df = df.reindex(columns=tsdb_order)\n",
    "        elif d.endswith('GEVITAL'):\n",
    "            df = df.reindex(columns=ge_order)\n",
    "        df.loc[:,'dts'] = pd.to_timedelta(df.loc[:,'dts'], unit='s')\n",
    "        df.loc[:,'dts'] = df.loc[:,'dts'] + t0\n",
    "\n",
    "        # standardize column names\n",
    "        df.columns = ['dts', 'HR', 'BP-S', 'BP-D', 'RR', 'SPO2-%']\n",
    "        dfs.append(df)\n",
    "\n",
    "    patient_multi = pd.concat(dfs, axis=0) \n",
    "    patient_multi = patient_multi.sort_values(by=['dts'])\n",
    "\n",
    "    # add SBS\n",
    "    sbs_p = sbs_indiv.get_group(p).sort_values('recorded_time')\n",
    "    sbs_p = sbs_p.drop(columns=['osler_sid', 'pat_enc_csn_sid'])\n",
    "\n",
    "    # slice into X and y array\n",
    "    for i in range(len(sbs_p)):\n",
    "        t1 = sbs_p['recorded_time'].iloc[i]\n",
    "        t0 = t1 - timedelta(seconds=60*60) # 60 minutes prior\n",
    "\n",
    "        dat = patient_multi.loc[(patient_multi['dts'] >= t0)\n",
    "                        & (patient_multi['dts'] <= t1)]\n",
    "        # drop rows with non-constant time intervals\n",
    "        t_diff = dat['dts'].diff()\n",
    "        # force all time interval to be constant\n",
    "        dat = dat[t_diff == pd.Timedelta(60,unit=\"S\")].reset_index(drop=True)\n",
    "\n",
    "        # FIXME: time interval sampling \n",
    "\n",
    "        if (dat.shape[0] > 59 and dat.shape[1] == 6):\n",
    "            X.append(dat.drop(columns=['dts']).to_numpy())\n",
    "            y.append(sbs_p.iloc[i,1])\n",
    "            ids.append(p)\n",
    "\n",
    "X = np.array(X)\n",
    "y = np.array(y)\n",
    "ids = np.array(ids)"
   ]
  },
  {
   "cell_type": "code",
   "execution_count": 10,
   "metadata": {},
   "outputs": [
    {
     "name": "stdout",
     "output_type": "stream",
     "text": [
      "(2022, 5, 60)\n",
      "(2022,)\n",
      "(2022,)\n"
     ]
    }
   ],
   "source": [
    "# reshape\n",
    "X = np.transpose(X, (0, 2, 1))\n",
    "\n",
    "print(X.shape)\n",
    "print(y.shape)\n",
    "print(ids.shape)"
   ]
  },
  {
   "cell_type": "code",
   "execution_count": 11,
   "metadata": {},
   "outputs": [],
   "source": [
    "np.save('./DONOTPUSH/waveforms_60min.npy',X)\n",
    "np.save('./DONOTPUSH/sbs_60min.npy',y)\n",
    "np.save('./DONOTPUSH/ids_60min.npy',ids)"
   ]
  }
 ],
 "metadata": {
  "kernelspec": {
   "display_name": "base",
   "language": "python",
   "name": "python3"
  },
  "language_info": {
   "codemirror_mode": {
    "name": "ipython",
    "version": 3
   },
   "file_extension": ".py",
   "mimetype": "text/x-python",
   "name": "python",
   "nbconvert_exporter": "python",
   "pygments_lexer": "ipython3",
   "version": "3.7.13 (default, Mar 28 2022, 08:03:21) [MSC v.1916 64 bit (AMD64)]"
  },
  "orig_nbformat": 4,
  "vscode": {
   "interpreter": {
    "hash": "13a0a7db74dc931e95168a9b504eadd3f616dade2353cce14264b5d4e454dcfa"
   }
  }
 },
 "nbformat": 4,
 "nbformat_minor": 2
}
