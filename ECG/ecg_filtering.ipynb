{
 "cells": [
  {
   "cell_type": "markdown",
   "metadata": {},
   "source": [
    "Per-Patient ECG Analysis with SBS Scores"
   ]
  },
  {
   "cell_type": "code",
   "execution_count": 2,
   "metadata": {},
   "outputs": [],
   "source": [
    "# Import Modules\n",
    "import os\n",
    "import pandas as pd\n",
    "import numpy as np\n",
    "from scipy.io import loadmat, savemat\n",
    "import matplotlib.pyplot as plt\n",
    "import neurokit2 as nk"
   ]
  },
  {
   "cell_type": "code",
   "execution_count": 3,
   "metadata": {},
   "outputs": [],
   "source": [
    "def load_from_excel(file_path):\n",
    "    # Implement this function to load data from Excel\n",
    "    # Return the data and column names\n",
    "    data = pd.read_excel(file_path)\n",
    "    return data, data.columns.tolist()"
   ]
  },
  {
   "cell_type": "code",
   "execution_count": 4,
   "metadata": {},
   "outputs": [],
   "source": [
    "# Initialize Variables\n",
    "data_dir = 'C:/Users/sidha/OneDrive/Sid Stuff/PROJECTS/iMEDS Design Team/Data Analysis/PedAccel/ECG/PICU_ECG_Extract'\n",
    "original_sampling_rate = 250\n",
    "lead_time = 10\n",
    "window_size = 15"
   ]
  },
  {
   "cell_type": "code",
   "execution_count": 6,
   "metadata": {},
   "outputs": [
    {
     "name": "stdout",
     "output_type": "stream",
     "text": [
      "Processing Patient3\n",
      "C:/Users/sidha/OneDrive/Sid Stuff/PROJECTS/iMEDS Design Team/Data Analysis/PedAccel/ECG/PICU_ECG_Extract\\Patient3\n",
      "C:/Users/sidha/OneDrive/Sid Stuff/PROJECTS/iMEDS Design Team/Data Analysis/PedAccel/ECG/PICU_ECG_Extract\\Patient3\\Patient3_SBS_Scores_ECG.xlsx\n",
      "11\n",
      "Processing Patient3_Event_Row_1_Data_zero_order_interpolation_chunk0.mat\n",
      "Found SBS Score\n",
      "Updated data for patient Patient3, SBS score 1\n",
      "Processing Patient3_Event_Row_1_Data_zero_order_interpolation_chunk0.mat\n",
      "Found SBS Score\n",
      "Updated data for patient Patient3, SBS score 2\n",
      "Processing Patient3_Event_Row_1_Data_zero_order_interpolation_chunk0.mat\n",
      "Found SBS Score\n"
     ]
    },
    {
     "name": "stderr",
     "output_type": "stream",
     "text": [
      "c:\\Users\\sidha\\OneDrive\\Sid Stuff\\PROJECTS\\iMEDS Design Team\\Data Analysis\\PedAccel\\.venv\\Lib\\site-packages\\neurokit2\\signal\\signal_fixpeaks.py:307: RuntimeWarning: divide by zero encountered in divide\n",
      "  mrrs /= th2\n",
      "c:\\Users\\sidha\\OneDrive\\Sid Stuff\\PROJECTS\\iMEDS Design Team\\Data Analysis\\PedAccel\\.venv\\Lib\\site-packages\\neurokit2\\signal\\signal_fixpeaks.py:307: RuntimeWarning: invalid value encountered in divide\n",
      "  mrrs /= th2\n",
      "c:\\Users\\sidha\\OneDrive\\Sid Stuff\\PROJECTS\\iMEDS Design Team\\Data Analysis\\PedAccel\\.venv\\Lib\\site-packages\\neurokit2\\signal\\signal_fixpeaks.py:307: RuntimeWarning: divide by zero encountered in divide\n",
      "  mrrs /= th2\n",
      "c:\\Users\\sidha\\OneDrive\\Sid Stuff\\PROJECTS\\iMEDS Design Team\\Data Analysis\\PedAccel\\.venv\\Lib\\site-packages\\neurokit2\\signal\\signal_fixpeaks.py:307: RuntimeWarning: invalid value encountered in divide\n",
      "  mrrs /= th2\n",
      "c:\\Users\\sidha\\OneDrive\\Sid Stuff\\PROJECTS\\iMEDS Design Team\\Data Analysis\\PedAccel\\.venv\\Lib\\site-packages\\neurokit2\\signal\\signal_fixpeaks.py:307: RuntimeWarning: divide by zero encountered in divide\n",
      "  mrrs /= th2\n",
      "c:\\Users\\sidha\\OneDrive\\Sid Stuff\\PROJECTS\\iMEDS Design Team\\Data Analysis\\PedAccel\\.venv\\Lib\\site-packages\\neurokit2\\signal\\signal_fixpeaks.py:307: RuntimeWarning: invalid value encountered in divide\n",
      "  mrrs /= th2\n"
     ]
    },
    {
     "name": "stdout",
     "output_type": "stream",
     "text": [
      "Updated data for patient Patient3, SBS score 3\n",
      "Processing Patient3_Event_Row_1_Data_zero_order_interpolation_chunk0.mat\n",
      "Found SBS Score\n",
      "Updated data for patient Patient3, SBS score 4\n",
      "Processing Patient3_Event_Row_1_Data_zero_order_interpolation_chunk0.mat\n",
      "Found SBS Score\n"
     ]
    },
    {
     "name": "stderr",
     "output_type": "stream",
     "text": [
      "c:\\Users\\sidha\\OneDrive\\Sid Stuff\\PROJECTS\\iMEDS Design Team\\Data Analysis\\PedAccel\\.venv\\Lib\\site-packages\\neurokit2\\signal\\signal_fixpeaks.py:307: RuntimeWarning: divide by zero encountered in divide\n",
      "  mrrs /= th2\n",
      "c:\\Users\\sidha\\OneDrive\\Sid Stuff\\PROJECTS\\iMEDS Design Team\\Data Analysis\\PedAccel\\.venv\\Lib\\site-packages\\neurokit2\\signal\\signal_fixpeaks.py:307: RuntimeWarning: invalid value encountered in divide\n",
      "  mrrs /= th2\n",
      "c:\\Users\\sidha\\OneDrive\\Sid Stuff\\PROJECTS\\iMEDS Design Team\\Data Analysis\\PedAccel\\.venv\\Lib\\site-packages\\neurokit2\\signal\\signal_fixpeaks.py:307: RuntimeWarning: divide by zero encountered in divide\n",
      "  mrrs /= th2\n",
      "c:\\Users\\sidha\\OneDrive\\Sid Stuff\\PROJECTS\\iMEDS Design Team\\Data Analysis\\PedAccel\\.venv\\Lib\\site-packages\\neurokit2\\signal\\signal_fixpeaks.py:307: RuntimeWarning: invalid value encountered in divide\n",
      "  mrrs /= th2\n"
     ]
    },
    {
     "name": "stdout",
     "output_type": "stream",
     "text": [
      "Updated data for patient Patient3, SBS score 5\n",
      "Processing Patient3_Event_Row_1_Data_zero_order_interpolation_chunk0.mat\n",
      "Processing Patient3_Event_Row_1_Data_zero_order_interpolation_chunk1.mat\n",
      "Found SBS Score\n",
      "Updated data for patient Patient3, SBS score 6\n",
      "Processing Patient3_Event_Row_1_Data_zero_order_interpolation_chunk0.mat\n",
      "Processing Patient3_Event_Row_1_Data_zero_order_interpolation_chunk1.mat\n",
      "Found SBS Score\n",
      "Updated data for patient Patient3, SBS score 7\n",
      "Processing Patient3_Event_Row_1_Data_zero_order_interpolation_chunk0.mat\n",
      "Processing Patient3_Event_Row_1_Data_zero_order_interpolation_chunk1.mat\n",
      "Found SBS Score\n",
      "Updated data for patient Patient3, SBS score 8\n",
      "Processing Patient3_Event_Row_1_Data_zero_order_interpolation_chunk0.mat\n",
      "Processing Patient3_Event_Row_1_Data_zero_order_interpolation_chunk1.mat\n",
      "Found SBS Score\n",
      "Updated data for patient Patient3, SBS score 9\n",
      "Processing Patient3_Event_Row_1_Data_zero_order_interpolation_chunk0.mat\n",
      "Processing Patient3_Event_Row_1_Data_zero_order_interpolation_chunk1.mat\n",
      "Found SBS Score\n"
     ]
    },
    {
     "name": "stderr",
     "output_type": "stream",
     "text": [
      "c:\\Users\\sidha\\OneDrive\\Sid Stuff\\PROJECTS\\iMEDS Design Team\\Data Analysis\\PedAccel\\.venv\\Lib\\site-packages\\neurokit2\\signal\\signal_fixpeaks.py:307: RuntimeWarning: divide by zero encountered in divide\n",
      "  mrrs /= th2\n",
      "c:\\Users\\sidha\\OneDrive\\Sid Stuff\\PROJECTS\\iMEDS Design Team\\Data Analysis\\PedAccel\\.venv\\Lib\\site-packages\\neurokit2\\signal\\signal_fixpeaks.py:307: RuntimeWarning: invalid value encountered in divide\n",
      "  mrrs /= th2\n",
      "c:\\Users\\sidha\\OneDrive\\Sid Stuff\\PROJECTS\\iMEDS Design Team\\Data Analysis\\PedAccel\\.venv\\Lib\\site-packages\\neurokit2\\signal\\signal_fixpeaks.py:307: RuntimeWarning: invalid value encountered in divide\n",
      "  mrrs /= th2\n",
      "c:\\Users\\sidha\\OneDrive\\Sid Stuff\\PROJECTS\\iMEDS Design Team\\Data Analysis\\PedAccel\\.venv\\Lib\\site-packages\\neurokit2\\signal\\signal_fixpeaks.py:307: RuntimeWarning: divide by zero encountered in divide\n",
      "  mrrs /= th2\n",
      "c:\\Users\\sidha\\OneDrive\\Sid Stuff\\PROJECTS\\iMEDS Design Team\\Data Analysis\\PedAccel\\.venv\\Lib\\site-packages\\neurokit2\\signal\\signal_fixpeaks.py:307: RuntimeWarning: invalid value encountered in divide\n",
      "  mrrs /= th2\n",
      "c:\\Users\\sidha\\OneDrive\\Sid Stuff\\PROJECTS\\iMEDS Design Team\\Data Analysis\\PedAccel\\.venv\\Lib\\site-packages\\neurokit2\\signal\\signal_fixpeaks.py:307: RuntimeWarning: divide by zero encountered in divide\n",
      "  mrrs /= th2\n",
      "c:\\Users\\sidha\\OneDrive\\Sid Stuff\\PROJECTS\\iMEDS Design Team\\Data Analysis\\PedAccel\\.venv\\Lib\\site-packages\\neurokit2\\signal\\signal_fixpeaks.py:307: RuntimeWarning: invalid value encountered in divide\n",
      "  mrrs /= th2\n"
     ]
    },
    {
     "name": "stdout",
     "output_type": "stream",
     "text": [
      "Updated data for patient Patient3, SBS score 10\n",
      "Processing Patient3_Event_Row_1_Data_zero_order_interpolation_chunk0.mat\n",
      "Processing Patient3_Event_Row_1_Data_zero_order_interpolation_chunk1.mat\n",
      "Processing Patient3_Event_Row_1_Data_zero_order_interpolation_chunk2.mat\n",
      "Found SBS Score\n"
     ]
    },
    {
     "name": "stderr",
     "output_type": "stream",
     "text": [
      "c:\\Users\\sidha\\OneDrive\\Sid Stuff\\PROJECTS\\iMEDS Design Team\\Data Analysis\\PedAccel\\.venv\\Lib\\site-packages\\neurokit2\\signal\\signal_fixpeaks.py:307: RuntimeWarning: divide by zero encountered in divide\n",
      "  mrrs /= th2\n",
      "c:\\Users\\sidha\\OneDrive\\Sid Stuff\\PROJECTS\\iMEDS Design Team\\Data Analysis\\PedAccel\\.venv\\Lib\\site-packages\\neurokit2\\signal\\signal_fixpeaks.py:307: RuntimeWarning: invalid value encountered in divide\n",
      "  mrrs /= th2\n",
      "c:\\Users\\sidha\\OneDrive\\Sid Stuff\\PROJECTS\\iMEDS Design Team\\Data Analysis\\PedAccel\\.venv\\Lib\\site-packages\\neurokit2\\signal\\signal_fixpeaks.py:307: RuntimeWarning: divide by zero encountered in divide\n",
      "  mrrs /= th2\n",
      "c:\\Users\\sidha\\OneDrive\\Sid Stuff\\PROJECTS\\iMEDS Design Team\\Data Analysis\\PedAccel\\.venv\\Lib\\site-packages\\neurokit2\\signal\\signal_fixpeaks.py:307: RuntimeWarning: invalid value encountered in divide\n",
      "  mrrs /= th2\n",
      "c:\\Users\\sidha\\OneDrive\\Sid Stuff\\PROJECTS\\iMEDS Design Team\\Data Analysis\\PedAccel\\.venv\\Lib\\site-packages\\neurokit2\\signal\\signal_fixpeaks.py:307: RuntimeWarning: divide by zero encountered in divide\n",
      "  mrrs /= th2\n",
      "c:\\Users\\sidha\\OneDrive\\Sid Stuff\\PROJECTS\\iMEDS Design Team\\Data Analysis\\PedAccel\\.venv\\Lib\\site-packages\\neurokit2\\signal\\signal_fixpeaks.py:307: RuntimeWarning: invalid value encountered in divide\n",
      "  mrrs /= th2\n",
      "c:\\Users\\sidha\\OneDrive\\Sid Stuff\\PROJECTS\\iMEDS Design Team\\Data Analysis\\PedAccel\\.venv\\Lib\\site-packages\\neurokit2\\signal\\signal_fixpeaks.py:307: RuntimeWarning: divide by zero encountered in divide\n",
      "  mrrs /= th2\n",
      "c:\\Users\\sidha\\OneDrive\\Sid Stuff\\PROJECTS\\iMEDS Design Team\\Data Analysis\\PedAccel\\.venv\\Lib\\site-packages\\neurokit2\\signal\\signal_fixpeaks.py:307: RuntimeWarning: invalid value encountered in divide\n",
      "  mrrs /= th2\n"
     ]
    },
    {
     "name": "stdout",
     "output_type": "stream",
     "text": [
      "Updated data for patient Patient3, SBS score 11\n",
      "All 11 SBS scores processed for patient Patient3\n",
      "Processing complete for all patients\n"
     ]
    }
   ],
   "source": [
    "# Loop through patient data files and iteratively store SBS scores and ECG data in .mat file for each patient\n",
    "\n",
    "for patient in os.listdir(data_dir):\n",
    "    print(f\"Processing {patient}\")\n",
    "    patient_dir = os.path.join(data_dir, patient)\n",
    "    print(patient_dir)\n",
    "\n",
    "    sbs_file = os.path.join(patient_dir, f'{patient}_SBS_Scores_ECG.xlsx')\n",
    "    if not os.path.isfile(sbs_file):\n",
    "        raise FileNotFoundError(f'EPIC file not found: {sbs_file}')\n",
    "    \n",
    "    print(sbs_file)\n",
    "    \n",
    "    epic_data, epic_names = load_from_excel(sbs_file)\n",
    "    \n",
    "    epic_data.dropna(subset=['SBS'], inplace=True)\n",
    "    epic_data['dts'] = pd.to_datetime(epic_data['Time_uniform'], format='mixed')\n",
    "    epic_data['start_time'] = epic_data['dts'] - pd.Timedelta(lead_time, 'minutes')\n",
    "    epic_data['end_time'] = epic_data['dts'] + pd.Timedelta(window_size - lead_time, 'minutes')\n",
    "    print(len(epic_data))\n",
    "    \n",
    "    total_sbs_scores = len(epic_data)\n",
    "    score_count = 0\n",
    "    \n",
    "    # Initialize the .mat file with empty arrays\n",
    "    mat_file_path = os.path.join(patient_dir, f'{patient}_ECG.mat')\n",
    "    if not os.path.exists(mat_file_path):\n",
    "        initial_data = {\n",
    "            'sbs_score': np.array([]),\n",
    "            'start_time': np.array([], dtype='datetime64[ns]'),\n",
    "            'end_time': np.array([], dtype='datetime64[ns]'),\n",
    "            'ecg1': np.array([]),\n",
    "            'ecg2': np.array([]),\n",
    "            'ecg3': np.array([])\n",
    "        }\n",
    "        savemat(mat_file_path, initial_data)\n",
    "    \n",
    "    for index, row in epic_data.iterrows():\n",
    "        start_time = row['start_time']\n",
    "        end_time = row['end_time']\n",
    "        sbs_score = row['SBS']\n",
    "        \n",
    "        for file in os.listdir(patient_dir):\n",
    "            if file.endswith('.mat') and file != f'{patient}_ECG.mat':\n",
    "                print(f\"Processing {file}\")\n",
    "                raw_data = loadmat(os.path.join(patient_dir, file))\n",
    "\n",
    "                time = raw_data['Time'].squeeze()\n",
    "                relative_time = raw_data['Relative Time (sec)'].squeeze()\n",
    "                ecg_1 = raw_data['GE_WAVE_ECG_1_ID'].squeeze()\n",
    "                ecg_2 = raw_data['GE_WAVE_ECG_2_ID'].squeeze()\n",
    "                ecg_3 = raw_data['GE_WAVE_ECG_3_ID'].squeeze()\n",
    "                time_uniform = np.array(raw_data['Time_uniform'][0]).squeeze()\n",
    "                \n",
    "                time_uniform_list = [item[0] for item in time_uniform.flatten()]\n",
    "                time_uniform_f = pd.to_datetime(time_uniform_list, format='%m/%d/%Y %I:%M:%S %p')\n",
    "                \n",
    "                if start_time in time_uniform_f:\n",
    "                    print(\"Found SBS Score\")\n",
    "                    mask = (time_uniform_f >= start_time) & (time_uniform_f <= end_time)\n",
    "                    ecg_1_segment = ecg_1[mask]\n",
    "                    ecg_2_segment = ecg_2[mask]\n",
    "                    ecg_3_segment = ecg_3[mask]\n",
    "                    \n",
    "                    # Process ECG and create plots\n",
    "                    l1_signal, l1_info = nk.ecg_process(np.array(ecg_1_segment), sampling_rate=original_sampling_rate)\n",
    "                    l2_signal, l2_info = nk.ecg_process(np.array(ecg_2_segment), sampling_rate=original_sampling_rate)\n",
    "                    l3_signal, l3_info = nk.ecg_process(np.array(ecg_3_segment), sampling_rate=original_sampling_rate)\n",
    "                    \n",
    "                    # Plot and save ECG for leads 1, 2, 3\n",
    "                    for lead, signal, info in [(1, l1_signal, l1_info), (2, l2_signal, l2_info), (3, l3_signal, l3_info)]:\n",
    "                        nk.ecg_plot(signal, info)\n",
    "                        fig = plt.gcf()\n",
    "                        fig.suptitle(f'ECG Lead {lead}', fontsize=16)\n",
    "                        fig.set_size_inches(10, 12, forward=True)\n",
    "                        fig.savefig(os.path.join(patient_dir, f\"ECG_Lead{lead}_{patient}_{score_count}_SBS{sbs_score}.png\"))\n",
    "                        plt.close(fig)\n",
    "                    \n",
    "                    plt.rc('font', size=8)\n",
    "                    peaks, info = nk.ecg_peaks(l1_signal[\"ECG_Clean\"], sampling_rate=100, correct_artifacts=True)\n",
    "                    hrv_indices = nk.hrv(peaks, sampling_rate=100, show=True)\n",
    "                    fig = plt.gcf()\n",
    "                    fig.savefig(os.path.join(patient_dir, f\"HRV_plot_{patient}_{score_count}_SBS{sbs_score}.png\"), dpi=300, bbox_inches='tight')\n",
    "                    plt.close(fig)\n",
    "                    \n",
    "                    score_count += 1\n",
    "                    \n",
    "                    # Load existing data\n",
    "                    existing_data = loadmat(mat_file_path)\n",
    "                    \n",
    "                    # Convert start_time and end_time to object dtype\n",
    "                    existing_data['start_time'] = existing_data['start_time'].astype('object')\n",
    "                    existing_data['end_time'] = existing_data['end_time'].astype('object')\n",
    "                    \n",
    "                    # Append new data\n",
    "                    existing_data['sbs_score'] = np.append(existing_data['sbs_score'], sbs_score)\n",
    "                    existing_data['start_time'] = np.append(existing_data['start_time'], start_time.to_datetime64())\n",
    "                    existing_data['end_time'] = np.append(existing_data['end_time'], end_time.to_datetime64())\n",
    "\n",
    "                    # Handle ECG data\n",
    "                    for ecg_key, ecg_segment in [('ecg1', ecg_1_segment), ('ecg2', ecg_2_segment), ('ecg3', ecg_3_segment)]:\n",
    "                        ecg_segment = ecg_segment.reshape(1, -1)  # Ensure 2D array\n",
    "                        if existing_data[ecg_key].size == 0:\n",
    "                            existing_data[ecg_key] = ecg_segment\n",
    "                        else:\n",
    "                            # Ensure the new segment has the same number of columns as the existing data\n",
    "                            min_cols = min(existing_data[ecg_key].shape[1], ecg_segment.shape[1])\n",
    "                            existing_data[ecg_key] = np.vstack((existing_data[ecg_key][:, :min_cols], ecg_segment[:, :min_cols]))\n",
    "\n",
    "                    # Ensure each column in existing_data is np.array\n",
    "                    for key in existing_data:\n",
    "                        if not isinstance(existing_data[key], np.ndarray):\n",
    "                            existing_data[key] = np.array(existing_data[key])\n",
    "\n",
    "                    # Save updated data\n",
    "                    savemat(mat_file_path, existing_data)\n",
    "                    print(f\"Updated data for patient {patient}, SBS score {score_count}\")\n",
    "                    \n",
    "                    break  # Break the inner loop after processing this SBS score\n",
    "        \n",
    "        if score_count >= total_sbs_scores:\n",
    "            print(f\"All {total_sbs_scores} SBS scores processed for patient {patient}\")\n",
    "            break  # Break the outer loop if all SBS scores have been processed\n",
    "\n",
    "print(\"Processing complete for all patients\")"
   ]
  }
 ],
 "metadata": {
  "kernelspec": {
   "display_name": ".venv",
   "language": "python",
   "name": "python3"
  },
  "language_info": {
   "codemirror_mode": {
    "name": "ipython",
    "version": 3
   },
   "file_extension": ".py",
   "mimetype": "text/x-python",
   "name": "python",
   "nbconvert_exporter": "python",
   "pygments_lexer": "ipython3",
   "version": "3.12.1"
  }
 },
 "nbformat": 4,
 "nbformat_minor": 2
}
